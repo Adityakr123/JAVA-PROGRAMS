{
 "cells": [
  {
   "cell_type": "code",
   "execution_count": 1,
   "metadata": {},
   "outputs": [
    {
     "name": "stdout",
     "output_type": "stream",
     "text": [
      "summary statistics \n",
      "mean=  4.655174958192563\n",
      "median=  4.720318647763074\n",
      "variance=  6.071831152000083\n",
      "standard deviation=  2.4641085917629693\n"
     ]
    },
    {
     "data": {
      "image/png": "[encoded data removed]",
      "text/plain": [
       "<Figure size 432x288 with 1 Axes>"
      ]
     },
     "metadata": {
      "needs_background": "light"
     },
     "output_type": "display_data"
    }
   ],
   "source": [
    "import random\n",
    "import matplotlib.pyplot as plt\n",
    "import pandas as pd\n",
    "values = [random.gauss(5,2) for i in range(10)]\n",
    "df = pd.DataFrame(columns=['data'])\n",
    "for i in range(10):\n",
    "    \n",
    "    df = df.append({'data': values[i]}, ignore_index=True)\n",
    "\n",
    "df.to_excel('./data.xlsx', sheet_name='data', index=False)\n",
    "plt.plot(values)\n",
    "print(\"summary statistics \")\n",
    "print(\"mean= \",df['data'].mean())\n",
    "print(\"median= \",df['data'].median())\n",
    "print(\"variance= \",df['data'].var())\n",
    "print(\"standard deviation= \",df['data'].std())\n",
    "plt.show()                 "
   ]
  },
  {
   "cell_type": "code",
   "execution_count": 4,
   "metadata": {},
   "outputs": [
    {
     "name": "stdout",
     "output_type": "stream",
     "text": [
      "hello hi\n"
     ]
    }
   ],
   "source": [
    "print(\"hello hi\")\n",
    "\n",
    "a=10"
   ]
  },
  {
   "cell_type": "code",
   "execution_count": 6,
   "metadata": {},
   "outputs": [
    {
     "name": "stdout",
     "output_type": "stream",
     "text": [
      "how r u\n",
      "10\n"
     ]
    }
   ],
   "source": [
    "print(\"how r u\")\n",
    "a=10\n",
    "print(a)"
   ]
  },
  {
   "cell_type": "markdown",
   "metadata": {},
   "source": [
    "# learn basic"
   ]
  },
  {
   "cell_type": "code",
   "execution_count": 13,
   "metadata": {},
   "outputs": [
    {
     "ename": "SyntaxError",
     "evalue": "unmatched ')' (<ipython-input-13-4aacfdd12257>, line 2)",
     "output_type": "error",
     "traceback": [
      "\u001b[0;36m  File \u001b[0;32m\"<ipython-input-13-4aacfdd12257>\"\u001b[0;36m, line \u001b[0;32m2\u001b[0m\n\u001b[0;31m    celsius= celsius * (9)/5) + 32\u001b[0m\n\u001b[0m                            ^\u001b[0m\n\u001b[0;31mSyntaxError\u001b[0m\u001b[0;31m:\u001b[0m unmatched ')'\n"
     ]
    }
   ],
   "source": [
    "celsius = float(input(\"enter temprature\"))\n",
    "celsius= (celsius * (9)/5) + 32\n",
    "print(celsius)"
   ]
  },
  {
   "cell_type": "code",
   "execution_count": null,
   "metadata": {},
   "outputs": [],
   "source": []
  }
 ],
 "metadata": {
  "kernelspec": {
   "display_name": "Python 3",
   "language": "python",
   "name": "python3"
  },
  "language_info": {
   "codemirror_mode": {
    "name": "ipython",
    "version": 3
   },
   "file_extension": ".py",
   "mimetype": "text/x-python",
   "name": "python",
   "nbconvert_exporter": "python",
   "pygments_lexer": "ipython3",
   "version": "3.8.5"
  }
 },
 "nbformat": 4,
 "nbformat_minor": 4
}
