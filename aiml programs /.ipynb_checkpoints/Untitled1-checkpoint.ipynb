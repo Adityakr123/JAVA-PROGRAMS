{
 "cells": [
  {
   "cell_type": "code",
   "execution_count": 13,
   "metadata": {},
   "outputs": [
    {
     "name": "stdout",
     "output_type": "stream",
     "text": [
      "<class 'pomegranate.distributions.DiscreteDistribution.DiscreteDistribution'>\n",
      "<class 'pomegranate.distributions.ConditionalProbabilityTable.ConditionalProbabilityTable'>\n"
     ]
    },
    {
     "ename": "NameError",
     "evalue": "name 'networkprint' is not defined",
     "output_type": "error",
     "traceback": [
      "\u001b[0;31m---------------------------------------------------------------------------\u001b[0m",
      "\u001b[0;31mNameError\u001b[0m                                 Traceback (most recent call last)",
      "\u001b[0;32m<ipython-input-13-9b371f252a9a>\u001b[0m in \u001b[0;36m<module>\u001b[0;34m\u001b[0m\n\u001b[1;32m     47\u001b[0m \u001b[0;31m# print(\"n\".join(\"{}t{}\".format(state.name, belief) for state, belief in zip(network.states, beliefs)))\u001b[0m\u001b[0;34m\u001b[0m\u001b[0;34m\u001b[0m\u001b[0;34m\u001b[0m\u001b[0m\n\u001b[1;32m     48\u001b[0m \u001b[0;34m\u001b[0m\u001b[0m\n\u001b[0;32m---> 49\u001b[0;31m \u001b[0mbeliefs\u001b[0m \u001b[0;34m=\u001b[0m \u001b[0mnetworkprint\u001b[0m\u001b[0;34m(\u001b[0m\u001b[0;34m\"n\"\u001b[0m\u001b[0;34m.\u001b[0m\u001b[0mjoin\u001b[0m\u001b[0;34m(\u001b[0m\u001b[0;34m\"{}t{}\"\u001b[0m\u001b[0;34m.\u001b[0m\u001b[0mformat\u001b[0m\u001b[0;34m(\u001b[0m\u001b[0mstate\u001b[0m\u001b[0;34m.\u001b[0m\u001b[0mname\u001b[0m\u001b[0;34m,\u001b[0m \u001b[0mbelief\u001b[0m\u001b[0;34m)\u001b[0m \u001b[0;32mfor\u001b[0m \u001b[0mstate\u001b[0m\u001b[0;34m,\u001b[0m \u001b[0mbelief\u001b[0m \u001b[0;32min\u001b[0m \u001b[0mzip\u001b[0m\u001b[0;34m(\u001b[0m\u001b[0mnetwork\u001b[0m\u001b[0;34m.\u001b[0m\u001b[0mstates\u001b[0m\u001b[0;34m,\u001b[0m \u001b[0mbeliefs\u001b[0m\u001b[0;34m)\u001b[0m\u001b[0;34m)\u001b[0m\u001b[0;34m)\u001b[0m\u001b[0;34m.\u001b[0m\u001b[0mpredict_proba\u001b[0m\u001b[0;34m(\u001b[0m\u001b[0;34m{\u001b[0m\u001b[0;34m'guest'\u001b[0m\u001b[0;34m:\u001b[0m \u001b[0;34m'A'\u001b[0m\u001b[0;34m,\u001b[0m \u001b[0;34m'monty'\u001b[0m\u001b[0;34m:\u001b[0m \u001b[0;34m'B'\u001b[0m\u001b[0;34m}\u001b[0m\u001b[0;34m)\u001b[0m\u001b[0;34m\u001b[0m\u001b[0;34m\u001b[0m\u001b[0m\n\u001b[0m",
      "\u001b[0;31mNameError\u001b[0m: name 'networkprint' is not defined"
     ]
    }
   ],
   "source": [
    "import math\n",
    "from pomegranate import *\n",
    "guest = DiscreteDistribution({'A': 1. / 3, 'B': 1. / 3, 'C': 1. / 3})\n",
    "prize = DiscreteDistribution({'A': 1. / 3, 'B': 1. / 3, 'C': 1. / 3})\n",
    "\n",
    "monty = ConditionalProbabilityTable(\n",
    "    [['A', 'A', 'A', 0.0],\n",
    "     ['A', 'A', 'B', 0.5],\n",
    "     ['A', 'A', 'C', 0.5],\n",
    "     ['A', 'B', 'A', 0.0],\n",
    "     ['A', 'B', 'B', 0.0],\n",
    "     ['A', 'B', 'C', 1.0],\n",
    "     ['A', 'C', 'A', 0.0],\n",
    "     ['A', 'C', 'B', 1.0],\n",
    "     ['A', 'C', 'C', 0.0],\n",
    "     ['B', 'A', 'A', 0.0],\n",
    "     ['B', 'A', 'B', 0.0],\n",
    "     ['B', 'A', 'C', 1.0],\n",
    "     ['B', 'B', 'A', 0.5],\n",
    "     ['B', 'B', 'B', 0.0],\n",
    "     ['B', 'B', 'C', 0.5],\n",
    "     ['B', 'C', 'A', 1.0],\n",
    "     ['B', 'C', 'B', 0.0],\n",
    "     ['B', 'C', 'C', 0.0],\n",
    "     ['C', 'A', 'A', 0.0],\n",
    "     ['C', 'A', 'B', 1.0],\n",
    "     ['C', 'A', 'C', 0.0],\n",
    "     ['C', 'B', 'A', 1.0],\n",
    "     ['C', 'B', 'B', 0.0],\n",
    "     ['C', 'B', 'C', 0.0],\n",
    "     ['C', 'C', 'A', 0.5],\n",
    "     ['C', 'C', 'B', 0.5],\n",
    "     ['C', 'C', 'C', 0.0]], [guest, prize])\n",
    "\n",
    "d1 = State(guest, name=\"guest\")\n",
    "d2 = State(prize, name=\"prize\")\n",
    "d3 = State(monty, name=\"monty\")\n",
    "network = BayesianNetwork(\"Solving the Monty Hall Problem With Bayesian Networks\")\n",
    "network.add_states(d1, d2, d3)\n",
    "network.add_edge(d1, d3)\n",
    "network.add_edge(d2, d3)\n",
    "network.bake()\n",
    "print(type(guest))\n",
    "print(type(monty))\n",
    "beliefs = network.predict_proba({'guest': 'A'})\n",
    "beliefs = map(str, beliefs)\n",
    "print(\"n\".join(\"{}t{}\".format(state.name, belief) for state, belief in zip(network.states, beliefs)))\n",
    "\n",
    "beliefs = networkprint(\"n\".join(\"{}t{}\".format(state.name, belief) for state, belief in zip(network.states, beliefs))).predict_proba({'guest': 'A', 'monty': 'B'})\n"
   ]
  },
  {
   "cell_type": "code",
   "execution_count": null,
   "metadata": {},
   "outputs": [],
   "source": []
  }
 ],
 "metadata": {
  "kernelspec": {
   "display_name": "Python 3",
   "language": "python",
   "name": "python3"
  },
  "language_info": {
   "codemirror_mode": {
    "name": "ipython",
    "version": 3
   },
   "file_extension": ".py",
   "mimetype": "text/x-python",
   "name": "python",
   "nbconvert_exporter": "python",
   "pygments_lexer": "ipython3",
   "version": "3.8.5"
  }
 },
 "nbformat": 4,
 "nbformat_minor": 4
}
